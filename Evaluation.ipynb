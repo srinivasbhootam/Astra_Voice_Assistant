{
 "cells": [
  {
   "cell_type": "code",
   "execution_count": 1,
   "id": "7a82f770-946c-4377-bc74-89ad7cfe5405",
   "metadata": {},
   "outputs": [
    {
     "name": "stdout",
     "output_type": "stream",
     "text": [
      "                            query    label\n",
      "0               capital of France  general\n",
      "1                  tell me a joke      fun\n",
      "2                    CEO of Tesla  general\n",
      "3                         weather  weather\n",
      "4                         Detroit  weather\n",
      "5             how blockchain work  general\n",
      "6          who discovered gravity  general\n",
      "7   tallest mountain in the world  general\n",
      "8               what is your name  general\n",
      "9              do you like humans  general\n",
      "10                        weather  weather\n",
      "11                         London  weather\n",
      "12                        weather  weather\n",
      "13                       New York  weather\n"
     ]
    }
   ],
   "source": [
    "import pandas as pd\n",
    "\n",
    "# Load the labeled dataset\n",
    "df = pd.read_csv(\"labeled_data.csv\")\n",
    "print(df)\n"
   ]
  },
  {
   "cell_type": "code",
   "execution_count": 2,
   "id": "62c1ecac-5de9-4819-a76a-cf77831e2908",
   "metadata": {},
   "outputs": [
    {
     "name": "stdout",
     "output_type": "stream",
     "text": [
      "                            query    label predicted_label\n",
      "0               capital of France  general         general\n",
      "1                  tell me a joke      fun             fun\n",
      "2                    CEO of Tesla  general         general\n",
      "3                         weather  weather         weather\n",
      "4                         Detroit  weather         weather\n",
      "5             how blockchain work  general         general\n",
      "6          who discovered gravity  general         general\n",
      "7   tallest mountain in the world  general         general\n",
      "8               what is your name  general         general\n",
      "9              do you like humans  general         general\n",
      "10                        weather  weather         weather\n",
      "11                         London  weather         weather\n",
      "12                        weather  weather         weather\n",
      "13                       New York  weather         weather\n"
     ]
    }
   ],
   "source": [
    "def rule_based_classifier(query):\n",
    "    q = query.lower()\n",
    "    if \"weather\" in q or q in [\"detroit\", \"london\", \"new york\"]:\n",
    "        return \"weather\"\n",
    "    elif \"joke\" in q or \"fun\" in q:\n",
    "        return \"fun\"\n",
    "    else:\n",
    "        return \"general\"\n",
    "\n",
    "# Apply the classifier to generate predictions\n",
    "df[\"predicted_label\"] = df[\"query\"].apply(rule_based_classifier)\n",
    "print(df)\n"
   ]
  },
  {
   "cell_type": "code",
   "execution_count": 3,
   "id": "dd44d641-04e6-4ae9-a1d5-73619185ffb5",
   "metadata": {},
   "outputs": [
    {
     "name": "stdout",
     "output_type": "stream",
     "text": [
      "              precision    recall  f1-score   support\n",
      "\n",
      "         fun       1.00      1.00      1.00         1\n",
      "     general       1.00      1.00      1.00         7\n",
      "     weather       1.00      1.00      1.00         6\n",
      "\n",
      "    accuracy                           1.00        14\n",
      "   macro avg       1.00      1.00      1.00        14\n",
      "weighted avg       1.00      1.00      1.00        14\n",
      "\n"
     ]
    }
   ],
   "source": [
    "from sklearn.metrics import classification_report\n",
    "\n",
    "# Generate the classification report\n",
    "report = classification_report(df[\"label\"], df[\"predicted_label\"])\n",
    "print(report)\n"
   ]
  },
  {
   "cell_type": "code",
   "execution_count": null,
   "id": "9a8e0189-6686-4025-9577-219b0518cb53",
   "metadata": {},
   "outputs": [],
   "source": []
  }
 ],
 "metadata": {
  "kernelspec": {
   "display_name": "Python 3 (ipykernel)",
   "language": "python",
   "name": "python3"
  },
  "language_info": {
   "codemirror_mode": {
    "name": "ipython",
    "version": 3
   },
   "file_extension": ".py",
   "mimetype": "text/x-python",
   "name": "python",
   "nbconvert_exporter": "python",
   "pygments_lexer": "ipython3",
   "version": "3.13.0"
  }
 },
 "nbformat": 4,
 "nbformat_minor": 5
}
