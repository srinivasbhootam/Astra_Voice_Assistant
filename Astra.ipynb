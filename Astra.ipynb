{
 "cells": [
  {
   "cell_type": "code",
   "execution_count": null,
   "id": "cc5a836a-ebff-4029-9df1-bbb885ce9661",
   "metadata": {},
   "outputs": [],
   "source": [
    "\"\"\"\"Step 1: Import Libraries and Load Environment Variables\n",
    "\n",
    "In this step, I set up the project by importing necessary libraries and securely loading API keys from an external file:\n",
    "\n",
    "Library Imports:\n",
    "\n",
    "dotenv & os: Load sensitive API keys from Astra.env.\n",
    "openai: For generating dynamic responses.\n",
    "speech_recognition & pyttsx3: For capturing voice input and converting text to speech.\n",
    "time & random: For delays and selecting random responses.\n",
    "requests: For HTTP requests to external APIs (like weather data).\n",
    "API Key Loading:\n",
    "The load_dotenv(\"Astra.env\") call reads API keys from the file, which are then accessed using os.getenv(). This keeps my credentials secure and separate from the code.\n",
    "\n",
    "API Key Configuration:\n",
    "I set the OpenAI API key by assigning it to openai.api_key for later use in the project\"\"\""
   ]
  },
  {
   "cell_type": "code",
   "execution_count": 2,
   "id": "a779831a-59a7-4a2f-9c8b-368a3c8fcabb",
   "metadata": {},
   "outputs": [],
   "source": [
    "from dotenv import load_dotenv\n",
    "import os\n",
    "import openai\n",
    "import speech_recognition as sr\n",
    "import pyttsx3\n",
    "import time\n",
    "import random\n",
    "import requests\n",
    "\n",
    "# Load API keys from Astra.env\n",
    "load_dotenv(\"Astra.env\")\n",
    "openai_api_key = os.getenv(\"OPENAI_API_KEY\")\n",
    "openweather_api_key = os.getenv(\"OPENWEATHER_API_KEY\")\n",
    "\n",
    "# Set OpenAI API key\n",
    "openai.api_key = openai_api_key\n"
   ]
  },
  {
   "cell_type": "code",
   "execution_count": 3,
   "id": "b3ded4da-e5fa-4436-818b-00b6000cc95b",
   "metadata": {},
   "outputs": [],
   "source": [
    "\"\"\"Step 2: Initialize Speech Recognizer and Text-to-Speech Engine\n",
    "\n",
    "In this step, I set up the core components for voice input and output:\n",
    "\n",
    "Speech Recognizer:\n",
    "I initialize sr.Recognizer() to capture and process audio from the microphone.\n",
    "\n",
    "Text-to-Speech Engine:\n",
    "I initialize pyttsx3 for converting text responses into spoken words and adjust the speaking rate to 150 for clear and natural-sounding output\"\"\""
   ]
  },
  {
   "cell_type": "code",
   "execution_count": 4,
   "id": "ac881e55-9664-4e25-ac19-3a322152164d",
   "metadata": {},
   "outputs": [],
   "source": [
    "# Initialize the speech recognizer and text-to-speech engine\n",
    "recognizer = sr.Recognizer()\n",
    "tts_engine = pyttsx3.init()\n",
    "tts_engine.setProperty('rate', 150)  # Adjust speaking rate if needed\n"
   ]
  },
  {
   "cell_type": "code",
   "execution_count": 5,
   "id": "ed88fa0d-9648-4646-a6a7-f086b35f990f",
   "metadata": {},
   "outputs": [],
   "source": [
    "###Define Helper Functions"
   ]
  },
  {
   "cell_type": "code",
   "execution_count": 6,
   "id": "d8bda620-5e7d-47f5-bc36-da99c6a8f178",
   "metadata": {},
   "outputs": [],
   "source": [
    "\"\"\"Step 3: Text-to-Speech and Listening Functions\n",
    "\n",
    "speak(text):\n",
    "Prints and speaks the given text aloud using the TTS engine.\n",
    "\n",
    "listen():\n",
    "Listens via the microphone, adjusts for ambient noise, and converts your speech into lowercase text. It gracefully handles errors if the speech isn’t understood\"\"\""
   ]
  },
  {
   "cell_type": "code",
   "execution_count": 7,
   "id": "6e482529-fded-47bc-be5b-648e02f26c00",
   "metadata": {},
   "outputs": [],
   "source": [
    "def speak(text):\n",
    "    \"\"\"Speak the provided text and print it for visual feedback.\"\"\"\n",
    "    print(\"Astra:\", text)\n",
    "    tts_engine.say(text)\n",
    "    tts_engine.runAndWait()\n",
    "\n",
    "def listen():\n",
    "    \"\"\"Listen for a command from the user and return it as lowercase text.\"\"\"\n",
    "    with sr.Microphone() as source:\n",
    "        print(\"Listening...\")\n",
    "        recognizer.adjust_for_ambient_noise(source, duration=1)\n",
    "        audio = recognizer.listen(source)\n",
    "    try:\n",
    "        command = recognizer.recognize_google(audio)\n",
    "        print(\"You said:\", command)\n",
    "        return command.lower()\n",
    "    except sr.UnknownValueError:\n",
    "        print(\"Sorry, I did not understand that.\")\n",
    "        return \"\"\n",
    "    except sr.RequestError:\n",
    "        print(\"Could not request results from the service.\")\n",
    "        return \"\"\n"
   ]
  },
  {
   "cell_type": "code",
   "execution_count": 8,
   "id": "62cb15ea-3a12-4cf0-ade9-2160e73296e8",
   "metadata": {},
   "outputs": [],
   "source": [
    "\"\"\"Step 4: General AI Question Answering\n",
    "\n",
    "Functionality:\n",
    "The answer_ai_question(question) function sends your query to OpenAI's ChatCompletion API using the gpt-3.5-turbo model, then extracts and returns the generated answer.\n",
    "\n",
    "Error Handling:\n",
    "If any error occurs, it prints the error details and returns a fallback message\"\"\""
   ]
  },
  {
   "cell_type": "code",
   "execution_count": 9,
   "id": "7fbbe635-82d8-4163-83ad-972d1db6c8cc",
   "metadata": {},
   "outputs": [],
   "source": [
    "def answer_ai_question(question):\n",
    "    \"\"\"Answer a general question using OpenAI's ChatCompletion API with gpt-3.5-turbo.\"\"\"\n",
    "    try:\n",
    "        response = openai.ChatCompletion.create(\n",
    "            model=\"gpt-3.5-turbo\",\n",
    "            messages=[\n",
    "                {\"role\": \"system\", \"content\": \"You are a knowledgeable AI assistant.\"},\n",
    "                {\"role\": \"user\", \"content\": question}\n",
    "            ],\n",
    "            max_tokens=150,\n",
    "            temperature=0.7\n",
    "        )\n",
    "        answer = response.choices[0].message['content'].strip()\n",
    "        return answer\n",
    "    except Exception as e:\n",
    "        print(\"Error details:\", e)\n",
    "        return \"Sorry, I couldn't process your question at the moment.\"\n"
   ]
  },
  {
   "cell_type": "code",
   "execution_count": 10,
   "id": "85bac3bb-5173-441d-989f-aa4a960711c4",
   "metadata": {},
   "outputs": [],
   "source": [
    "\"\"\"Step 5: Weather Update Function\n",
    "\n",
    "Functionality:\n",
    "The get_weather(city) function builds a URL using the provided city name and your OpenWeatherMap API key, then fetches the current weather data.\n",
    "\n",
    "Response:\n",
    "If successful, it returns a formatted string with the temperature and weather description; otherwise, it returns an error message\"\"\""
   ]
  },
  {
   "cell_type": "code",
   "execution_count": 11,
   "id": "f01dc32c-23d9-4024-9ad2-571e00d27da5",
   "metadata": {},
   "outputs": [],
   "source": [
    "def get_weather(city):\n",
    "    \"\"\"Return the current weather for a given city using OpenWeatherMap.\"\"\"\n",
    "    base_url = \"http://api.openweathermap.org/data/2.5/weather?\"\n",
    "    complete_url = f\"{base_url}q={city}&appid={openweather_api_key}&units=metric\"\n",
    "    try:\n",
    "        response = requests.get(complete_url)\n",
    "        if response.status_code == 200:\n",
    "            data = response.json()\n",
    "            temp = data['main']['temp']\n",
    "            description = data['weather'][0]['description']\n",
    "            return f\"The temperature in {city} is {temp}°C with {description}.\"\n",
    "        else:\n",
    "            return \"Sorry, I could not retrieve the weather information for that city.\"\n",
    "    except Exception as e:\n",
    "        print(\"Weather API error:\", e)\n",
    "        return \"An error occurred while fetching the weather data.\"\n"
   ]
  },
  {
   "cell_type": "code",
   "execution_count": 12,
   "id": "6994366d-2ced-4a31-9d54-0358bf12e2cb",
   "metadata": {},
   "outputs": [],
   "source": [
    "\"\"\"Step 6: Fun Interactive Query Function\n",
    "\n",
    "Functionality:\n",
    "The fun_interaction() function randomly selects and returns a joke or fun fact from a predefined list\"\"\""
   ]
  },
  {
   "cell_type": "code",
   "execution_count": 13,
   "id": "052387dd-dce5-4710-920d-b47511a0459c",
   "metadata": {},
   "outputs": [],
   "source": [
    "def fun_interaction():\n",
    "    \"\"\"Return a fun interactive response (joke or fun fact).\"\"\"\n",
    "    jokes = [\n",
    "        \"Why do programmers prefer dark mode? Because light attracts bugs!\",\n",
    "        \"I would tell you a joke about UDP, but you might not get it!\",\n",
    "        \"Why did the computer show up at work late? It had a hard drive!\"\n",
    "    ]\n",
    "    return random.choice(jokes)\n"
   ]
  },
  {
   "cell_type": "code",
   "execution_count": 14,
   "id": "b8ddacc8-a3fe-4c04-9fb6-7477883c2ad5",
   "metadata": {},
   "outputs": [],
   "source": [
    "\"\"\"Step 7: Reminder Management Functions\n",
    "\n",
    "add_reminder(reminder_text):\n",
    "Adds the given reminder to a list and returns a confirmation message.\n",
    "\n",
    "show_reminders():\n",
    "Returns a summary of all saved reminders, or a message if none exist\"\"\"\n"
   ]
  },
  {
   "cell_type": "code",
   "execution_count": 15,
   "id": "f843bf5a-0775-4457-b6d9-3a25ea35f760",
   "metadata": {},
   "outputs": [],
   "source": [
    "reminders = []\n",
    "\n",
    "def add_reminder(reminder_text):\n",
    "    \"\"\"Add a reminder to the list.\"\"\"\n",
    "    reminders.append(reminder_text)\n",
    "    return \"Reminder added.\"\n",
    "\n",
    "def show_reminders():\n",
    "    \"\"\"Return a summary of all saved reminders.\"\"\"\n",
    "    if reminders:\n",
    "        return \"Your reminders: \" + \"; \".join(reminders)\n",
    "    else:\n",
    "        return \"You have no reminders.\"\n"
   ]
  },
  {
   "cell_type": "code",
   "execution_count": 16,
   "id": "469114bf-aae5-4568-aed4-cc3c7b1766c3",
   "metadata": {},
   "outputs": [],
   "source": [
    "\"\"\"Step 8: Process Commands\n",
    "\n",
    "Purpose:\n",
    "This function interprets the user's voice command and calls the corresponding functionality.\n",
    "\n",
    "How It Works:\n",
    "\n",
    "If the command contains \"weather\", it prompts for a city name, fetches the weather data, and speaks the result.\n",
    "If \"add reminder\" is detected, it asks for a reminder, adds it to the list, and confirms.\n",
    "If the user says \"show reminders\", it lists all saved reminders.\n",
    "If \"fun\" is mentioned, it delivers a random joke or fun fact.\n",
    "The command \"exit\" terminates the assistant with a farewell message.\n",
    "For any other command, it uses the AI question-answering function to generate a response\"\"\""
   ]
  },
  {
   "cell_type": "code",
   "execution_count": 17,
   "id": "5181de5c-d677-4a73-96ef-ce7a02e60619",
   "metadata": {},
   "outputs": [],
   "source": [
    "def process_command(command):\n",
    "    if \"weather\" in command:\n",
    "        speak(\"Which city's weather would you like to know?\")\n",
    "        city = listen()\n",
    "        if city:\n",
    "            speak(get_weather(city))\n",
    "        else:\n",
    "            speak(\"I didn't catch the city name.\")\n",
    "    \n",
    "    elif \"add reminder\" in command:\n",
    "        speak(\"What reminder would you like to add?\")\n",
    "        reminder_text = listen()\n",
    "        if reminder_text:\n",
    "            speak(add_reminder(reminder_text))\n",
    "        else:\n",
    "            speak(\"I didn't catch that. Please try again.\")\n",
    "    \n",
    "    elif \"show reminders\" in command:\n",
    "        speak(show_reminders())\n",
    "    \n",
    "    elif \"fun\" in command:\n",
    "        speak(fun_interaction())\n",
    "    \n",
    "    elif \"exit\" in command:\n",
    "        speak(\"Goodbye! Have a great day!\")\n",
    "        return False  # Signal to exit the loop\n",
    "    \n",
    "    elif command.strip() != \"\":\n",
    "        answer = answer_ai_question(command)\n",
    "        speak(answer)\n",
    "    \n",
    "    else:\n",
    "        speak(\"I did not catch that. Please try again.\")\n",
    "    \n",
    "    return True  # Continue the loop\n"
   ]
  },
  {
   "cell_type": "code",
   "execution_count": 18,
   "id": "3915721c-aadd-46f5-ba13-4def3d3a310f",
   "metadata": {},
   "outputs": [],
   "source": [
    "\"\"\"Step 9: Main Loop\n",
    "\n",
    "Functionality:\n",
    "The astra_assistant() function initiates the assistant by greeting the user and then enters a loop where it waits for the user to trigger a command, listens for input, processes that command, and repeats until the user says \"exit.\"\n",
    "\n",
    "Workflow:\n",
    "\n",
    "Greets the user with a welcome message.\n",
    "Waits for the user to press Enter to start listening.\n",
    "Captures and processes the spoken command via the process_command() function.\n",
    "Continues looping, with a brief pause between iterations for clarity\"\"\""
   ]
  },
  {
   "cell_type": "code",
   "execution_count": 19,
   "id": "729e5765-f518-4489-ba63-71dd019c2db0",
   "metadata": {},
   "outputs": [],
   "source": [
    "def astra_assistant():\n",
    "    speak(\"Hello, I am Astra. How can I assist you today?\")\n",
    "    running = True\n",
    "    while running:\n",
    "        input(\"Press Enter to speak your command...\")  # Trigger listening\n",
    "        command = listen()\n",
    "        running = process_command(command)\n",
    "        time.sleep(1)  # Brief pause for clarity\n",
    "\n",
    "\n"
   ]
  },
  {
   "cell_type": "code",
   "execution_count": 20,
   "id": "f38b95ae-b24a-4fbd-a3b0-b1b4e2530e6f",
   "metadata": {},
   "outputs": [],
   "source": [
    "\"\"\"Step 10: Calling Our Assistant\n",
    "\n",
    "What It Does:\n",
    "This line simply starts the voice assistant by calling the astra_assistant() function.\n",
    "\n",
    "Purpose:\n",
    "It launches the interactive session where Astra listens for your commands and responds accordingly until you say \"exit\"\""
   ]
  },
  {
   "cell_type": "code",
   "execution_count": 22,
   "id": "01b71c99-b991-46c2-a5c0-d46bfc6d95c2",
   "metadata": {},
   "outputs": [
    {
     "name": "stdout",
     "output_type": "stream",
     "text": [
      "Astra: Hello, I am Astra. How can I assist you today?\n"
     ]
    },
    {
     "name": "stdin",
     "output_type": "stream",
     "text": [
      "Press Enter to speak your command... \n"
     ]
    },
    {
     "name": "stdout",
     "output_type": "stream",
     "text": [
      "Listening...\n",
      "You said: capital of France\n",
      "Astra: The capital of France is Paris.\n"
     ]
    },
    {
     "name": "stdin",
     "output_type": "stream",
     "text": [
      "Press Enter to speak your command... \n"
     ]
    },
    {
     "name": "stdout",
     "output_type": "stream",
     "text": [
      "Listening...\n",
      "You said: what is blockchain\n",
      "Astra: Blockchain is a decentralized, distributed ledger technology that records transactions across a network of computers. Each transaction is stored in a \"block,\" which is then linked to the previous block, forming a chain of blocks - hence the name \"blockchain.\" This technology is known for its security, transparency, and immutability, making it a popular choice for applications such as cryptocurrencies, supply chain management, voting systems, and more.\n"
     ]
    },
    {
     "name": "stdin",
     "output_type": "stream",
     "text": [
      "Press Enter to speak your command... \n"
     ]
    },
    {
     "name": "stdout",
     "output_type": "stream",
     "text": [
      "Listening...\n",
      "You said: CEO of Tesla\n",
      "Astra: The CEO of Tesla is Elon Musk. He is also the founder and lead designer of SpaceX, co-founder of Neuralink, and co-founder of The Boring Company.\n"
     ]
    },
    {
     "name": "stdin",
     "output_type": "stream",
     "text": [
      "Press Enter to speak your command... \n"
     ]
    },
    {
     "name": "stdout",
     "output_type": "stream",
     "text": [
      "Listening...\n",
      "You said: weather\n",
      "Astra: Which city's weather would you like to know?\n",
      "Listening...\n",
      "You said: Detroit\n",
      "Astra: The temperature in detroit is 3.42°C with clear sky.\n"
     ]
    },
    {
     "name": "stdin",
     "output_type": "stream",
     "text": [
      "Press Enter to speak your command... \n"
     ]
    },
    {
     "name": "stdout",
     "output_type": "stream",
     "text": [
      "Listening...\n",
      "Sorry, I did not understand that.\n",
      "Astra: I did not catch that. Please try again.\n"
     ]
    },
    {
     "name": "stdin",
     "output_type": "stream",
     "text": [
      "Press Enter to speak your command... \n"
     ]
    },
    {
     "name": "stdout",
     "output_type": "stream",
     "text": [
      "Listening...\n",
      "You said: f u n Fun\n",
      "Astra: Why did the computer show up at work late? It had a hard drive!\n"
     ]
    },
    {
     "name": "stdin",
     "output_type": "stream",
     "text": [
      "Press Enter to speak your command... \n"
     ]
    },
    {
     "name": "stdout",
     "output_type": "stream",
     "text": [
      "Listening...\n",
      "You said: exit\n",
      "Astra: Goodbye! Have a great day!\n"
     ]
    }
   ],
   "source": [
    "# Run the assistant\n",
    "astra_assistant()"
   ]
  },
  {
   "cell_type": "code",
   "execution_count": null,
   "id": "64d72e5f-9df5-4191-a19a-81544730ff8c",
   "metadata": {},
   "outputs": [],
   "source": []
  }
 ],
 "metadata": {
  "kernelspec": {
   "display_name": "Python 3 (ipykernel)",
   "language": "python",
   "name": "python3"
  },
  "language_info": {
   "codemirror_mode": {
    "name": "ipython",
    "version": 3
   },
   "file_extension": ".py",
   "mimetype": "text/x-python",
   "name": "python",
   "nbconvert_exporter": "python",
   "pygments_lexer": "ipython3",
   "version": "3.13.0"
  }
 },
 "nbformat": 4,
 "nbformat_minor": 5
}
